{
  "nbformat": 4,
  "nbformat_minor": 0,
  "metadata": {
    "colab": {
      "provenance": []
    },
    "kernelspec": {
      "name": "python3",
      "display_name": "Python 3"
    },
    "language_info": {
      "name": "python"
    }
  },
  "cells": [
    {
      "cell_type": "code",
      "source": [],
      "metadata": {
        "id": "_quFrYYj-mxK"
      },
      "execution_count": null,
      "outputs": []
    },
    {
      "cell_type": "markdown",
      "source": [
        "# Instalando biblioteca pdf_reports"
      ],
      "metadata": {
        "id": "JEbdCXaw-o8S"
      }
    },
    {
      "cell_type": "code",
      "source": [
        "!pip install pdf_reports"
      ],
      "metadata": {
        "id": "ZjZWyUvh-uF5"
      },
      "execution_count": null,
      "outputs": []
    },
    {
      "cell_type": "code",
      "source": [
        "# importando a biblioteca\n",
        "import pdf_reports"
      ],
      "metadata": {
        "id": "eP7f1mL6AAqF"
      },
      "execution_count": 7,
      "outputs": []
    },
    {
      "cell_type": "markdown",
      "source": [
        "# Entrada de Dados\n"
      ],
      "metadata": {
        "id": "UOAgghh08-Ww"
      }
    },
    {
      "cell_type": "code",
      "source": [
        "nome = input('Digite o nome do aluno(a): ')\n",
        "idade = int(input('Digite a idade do aluno(a): '))\n",
        "peso = float(input('Digite o peso do aluno(a)(KG): '))\n",
        "altura = float(input('Digite a altura do aluno(a)(Metros): '))"
      ],
      "metadata": {
        "colab": {
          "base_uri": "https://localhost:8080/"
        },
        "id": "Vg7Ru5bF9Jnr",
        "outputId": "1ffc8eb7-8fe0-4136-b98c-5620e771a747"
      },
      "execution_count": 22,
      "outputs": [
        {
          "name": "stdout",
          "output_type": "stream",
          "text": [
            "Digite o nome do aluno(a): Jose Augusto\n",
            "Digite a idade do aluno(a): 41\n",
            "Digite o peso do aluno(a)(KG): 98.0\n",
            "Digite a altura do aluno(a)(Metros): 1.81\n"
          ]
        }
      ]
    },
    {
      "cell_type": "markdown",
      "source": [
        "# Calculando o IMC"
      ],
      "metadata": {
        "id": "AXpDQjKu9sQ-"
      }
    },
    {
      "cell_type": "code",
      "source": [
        "imc = peso / (altura ** 2)\n",
        "print(imc)"
      ],
      "metadata": {
        "colab": {
          "base_uri": "https://localhost:8080/"
        },
        "id": "QX71lv3G9uKW",
        "outputId": "9a208514-41db-4152-b24d-0020a1e4794f"
      },
      "execution_count": 23,
      "outputs": [
        {
          "output_type": "stream",
          "name": "stdout",
          "text": [
            "29.913616800463966\n"
          ]
        }
      ]
    },
    {
      "cell_type": "code",
      "source": [],
      "metadata": {
        "id": "4QqW0OIc91vv"
      },
      "execution_count": null,
      "outputs": []
    },
    {
      "cell_type": "markdown",
      "source": [
        "# Criando um status"
      ],
      "metadata": {
        "id": "NvG75jW49390"
      }
    },
    {
      "cell_type": "code",
      "source": [
        "status = 'dentro do peso'\n",
        "if imc > 25:\n",
        "  status = 'sobrepeso'"
      ],
      "metadata": {
        "id": "SLBSK2BN96oe"
      },
      "execution_count": 24,
      "outputs": []
    },
    {
      "cell_type": "code",
      "source": [
        "status"
      ],
      "metadata": {
        "colab": {
          "base_uri": "https://localhost:8080/",
          "height": 35
        },
        "id": "39ymV72p_R6G",
        "outputId": "f9ee5b0c-b0b5-4b1e-cce1-95d4e575a8cb"
      },
      "execution_count": 25,
      "outputs": [
        {
          "output_type": "execute_result",
          "data": {
            "text/plain": [
              "'sobrepeso'"
            ],
            "application/vnd.google.colaboratory.intrinsic+json": {
              "type": "string"
            }
          },
          "metadata": {},
          "execution_count": 25
        }
      ]
    },
    {
      "cell_type": "code",
      "source": [],
      "metadata": {
        "id": "Wvijwmae_X5B"
      },
      "execution_count": null,
      "outputs": []
    },
    {
      "cell_type": "markdown",
      "source": [
        "# Criando um dicionário com os dados dos alunos"
      ],
      "metadata": {
        "id": "6mwKe3vhAlwt"
      }
    },
    {
      "cell_type": "code",
      "source": [
        "dados_aluno = {\n",
        "    \"nome\" : nome,\n",
        "    \"idade\" : idade,\n",
        "    \"peso\" : peso,\n",
        "    \"altura\" : altura,\n",
        "    \"imc\" : round(imc,2),\n",
        "    \"status\" : status\n",
        "}"
      ],
      "metadata": {
        "id": "2xzkPKViArEj"
      },
      "execution_count": 26,
      "outputs": []
    },
    {
      "cell_type": "markdown",
      "source": [
        "# Gerando o PDF"
      ],
      "metadata": {
        "id": "bQfUut3B_nIh"
      }
    },
    {
      "cell_type": "code",
      "source": [
        "template = pdf_reports.pug_to_html('template.pug', dados=dados_aluno)"
      ],
      "metadata": {
        "id": "rH_gP0M4_pHC"
      },
      "execution_count": 27,
      "outputs": []
    },
    {
      "cell_type": "code",
      "source": [
        "pdf_reports.write_report(template, \"ficha_aluno.pdf\", use_default_styling=False)"
      ],
      "metadata": {
        "id": "ZHVqMsaABW7a"
      },
      "execution_count": 28,
      "outputs": []
    },
    {
      "cell_type": "code",
      "source": [],
      "metadata": {
        "id": "UtnQFc9aCaoH"
      },
      "execution_count": null,
      "outputs": []
    }
  ]
}